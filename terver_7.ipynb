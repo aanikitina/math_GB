{
 "cells": [
  {
   "cell_type": "markdown",
   "metadata": {},
   "source": [
    "Урок 7.\n",
    "\n",
    "\n",
    "Даны значения величины заработной платы заемщиков банка (zp) и значения их поведенческого кредитного скоринга (ks): zp = [35, 45, 190, 200, 40, 70, 54, 150, 120, 110], ks = [401, 574, 874, 919, 459, 739, 653, 902, 746, 832]. Используя математические операции, посчитать коэффициенты линейной регрессии, приняв за X заработную плату (то есть, zp - признак), а за y - значения скорингового балла (то есть, ks - целевая переменная). Произвести расчет как с использованием intercept, так и без.\n",
    "\n",
    "\n",
    "Посчитать коэффициент линейной регрессии при заработной плате (zp), используя градиентный спуск (без intercept).\n",
    "\n",
    "\n",
    "В каких случаях для вычисления доверительных интервалов и проверки статистических гипотез используется таблица значений функции Лапласа, а в каких - таблица критических точек распределения Стьюдента? \n",
    "\n",
    "*4. Произвести вычисления как в пункте 2, но с вычислением intercept. Учесть, что изменение коэффициентов должно производиться на каждом шаге одновременно (то есть изменение одного коэффициента не должно влиять на изменение другого во время одной итерации)."
   ]
  },
  {
   "cell_type": "code",
   "execution_count": 1,
   "metadata": {},
   "outputs": [],
   "source": [
    "from matplotlib import pyplot as plt\n",
    "import numpy as np\n",
    "%matplotlib inline"
   ]
  },
  {
   "cell_type": "markdown",
   "metadata": {},
   "source": [
    "### 1"
   ]
  },
  {
   "cell_type": "code",
   "execution_count": 2,
   "metadata": {},
   "outputs": [],
   "source": [
    "zp = np.array([35, 45, 190, 200, 40, 70, 54, 150, 120, 110])\n",
    "ks = np.array([401, 574, 874, 919, 459, 739, 653, 902, 746, 832])"
   ]
  },
  {
   "cell_type": "code",
   "execution_count": 3,
   "metadata": {},
   "outputs": [
    {
     "data": {
      "image/png": "[encoded data removed]",
      "text/plain": [
       "<Figure size 432x288 with 1 Axes>"
      ]
     },
     "metadata": {
      "needs_background": "light"
     },
     "output_type": "display_data"
    }
   ],
   "source": [
    "plt.scatter(zp, ks)\n",
    "plt.show()"
   ]
  },
  {
   "cell_type": "code",
   "execution_count": 4,
   "metadata": {},
   "outputs": [],
   "source": [
    "def calculate_coefs(x, y, intercept=True):\n",
    "    x = x.reshape(-1, 1)\n",
    "    y = y.reshape(-1, 1)\n",
    "    \n",
    "    if intercept:\n",
    "        x = np.hstack((np.ones(len(x)).reshape(-1,1), x))\n",
    "        \n",
    "    return np.dot(np.linalg.inv(np.dot(x.T, x)), x.T @ y).flatten()\n",
    "    "
   ]
  },
  {
   "cell_type": "code",
   "execution_count": 5,
   "metadata": {},
   "outputs": [],
   "source": [
    "def calculate_mse(target, predicted):\n",
    "    return sum((target - predicted)**2) / len(target)\n",
    "\n",
    "def calculate_rmse(target, predicted):\n",
    "    return np.sqrt(calculate_mse(target, predicted))"
   ]
  },
  {
   "cell_type": "code",
   "execution_count": 6,
   "metadata": {},
   "outputs": [
    {
     "data": {
      "text/plain": [
       "array([5.88982042])"
      ]
     },
     "execution_count": 6,
     "metadata": {},
     "output_type": "execute_result"
    }
   ],
   "source": [
    "weights = calculate_coefs(zp, ks, intercept=False)\n",
    "weights"
   ]
  },
  {
   "cell_type": "code",
   "execution_count": 7,
   "metadata": {},
   "outputs": [
    {
     "data": {
      "text/plain": [
       "array([444.17735732,   2.62053888])"
      ]
     },
     "execution_count": 7,
     "metadata": {},
     "output_type": "execute_result"
    }
   ],
   "source": [
    "weights_intercept = calculate_coefs(zp, ks, intercept=True)\n",
    "weights_intercept"
   ]
  },
  {
   "cell_type": "code",
   "execution_count": 8,
   "metadata": {},
   "outputs": [
    {
     "name": "stdout",
     "output_type": "stream",
     "text": [
      "[ 35  45 190 200  40  70  54 150 120 110]\n",
      "[401 574 874 919 459 739 653 902 746 832]\n"
     ]
    }
   ],
   "source": [
    "print(zp.flatten())\n",
    "print(ks.flatten())"
   ]
  },
  {
   "cell_type": "code",
   "execution_count": 9,
   "metadata": {},
   "outputs": [
    {
     "data": {
      "text/plain": [
       "array([535.89621821, 562.10160703, 942.07974498, 968.2851338 ,\n",
       "       548.99891262, 627.61507909, 585.68645697, 837.25818968,\n",
       "       758.64202321, 732.43663439])"
      ]
     },
     "execution_count": 9,
     "metadata": {},
     "output_type": "execute_result"
    }
   ],
   "source": [
    "weights_intercept[1] * zp.flatten() + weights_intercept[0]"
   ]
  },
  {
   "cell_type": "code",
   "execution_count": 10,
   "metadata": {},
   "outputs": [
    {
     "data": {
      "text/plain": [
       "array([ 206.1437147 ,  265.04191891, 1119.06587983, 1177.96408403,\n",
       "        235.59281681,  412.28742941,  318.05030269,  883.47306302,\n",
       "        706.77845042,  647.88024621])"
      ]
     },
     "execution_count": 10,
     "metadata": {},
     "output_type": "execute_result"
    }
   ],
   "source": [
    "weights[0] * zp.flatten()"
   ]
  },
  {
   "cell_type": "code",
   "execution_count": 11,
   "metadata": {},
   "outputs": [
    {
     "data": {
      "image/png": "[encoded data removed]",
      "text/plain": [
       "<Figure size 432x288 with 1 Axes>"
      ]
     },
     "metadata": {
      "needs_background": "light"
     },
     "output_type": "display_data"
    }
   ],
   "source": [
    "plt.scatter(zp, ks, color='b')\n",
    "plt.plot(zp.flatten(), weights[0] * zp.flatten(), color='r', label='zero intercept')\n",
    "plt.plot(zp.flatten(), weights_intercept[1] * zp.flatten() + weights_intercept[0], color='g', label='non-zero intercept')\n",
    "plt.legend()\n",
    "plt.show()"
   ]
  },
  {
   "cell_type": "code",
   "execution_count": 12,
   "metadata": {},
   "outputs": [],
   "source": [
    "# calculate_mse(ks.flatten(), weights_intercept[1] * zp.flatten() + weights_intercept[0])"
   ]
  },
  {
   "cell_type": "code",
   "execution_count": 13,
   "metadata": {},
   "outputs": [],
   "source": [
    "# calculate_mse(ks.flatten(), weights[0] * zp.flatten())"
   ]
  },
  {
   "cell_type": "code",
   "execution_count": 14,
   "metadata": {},
   "outputs": [
    {
     "name": "stdout",
     "output_type": "stream",
     "text": [
      "MSE модели со свободным членом: 6470.414201176658\n",
      "MSE модели без свободного члена: 56516.8584157194\n",
      "\n",
      "RMSE модели со свободным членом: 80.43888488272732\n",
      "RMSE модели без свободного члена: 237.7327457792035\n"
     ]
    }
   ],
   "source": [
    "print(f'MSE модели со свободным членом: {calculate_mse(ks.flatten(), weights_intercept[1] * zp.flatten() + weights_intercept[0])}')\n",
    "print(f'MSE модели без свободного члена: {calculate_mse(ks.flatten(), weights[0] * zp.flatten())}')\n",
    "print()\n",
    "print(f'RMSE модели со свободным членом: {calculate_rmse(ks.flatten(), weights_intercept[1] * zp.flatten() + weights_intercept[0])}')\n",
    "print(f'RMSE модели без свободного члена: {calculate_rmse(ks.flatten(), weights[0] * zp.flatten())}')"
   ]
  },
  {
   "cell_type": "markdown",
   "metadata": {},
   "source": [
    "### 2, 4 Градиентный спуск"
   ]
  },
  {
   "cell_type": "code",
   "execution_count": 15,
   "metadata": {},
   "outputs": [],
   "source": [
    "x = zp\n",
    "y = ks"
   ]
  },
  {
   "cell_type": "code",
   "execution_count": 22,
   "metadata": {},
   "outputs": [],
   "source": [
    "def gd_step_int(weights, eta):\n",
    "    derivative_1 = 2/len(x) * ((x_int @ weights.reshape(2, -1)).flatten() - y) @ x_int.T[1].flatten()\n",
    "    derivative_0 = 2/len(x) * ((x_int @ weights.reshape(2, -1)).flatten() - y) @ x_int.T[0].flatten()\n",
    "    \n",
    "    # print(derivative_0, derivative_1)\n",
    "    \n",
    "    weights[1] -= derivative_1 * eta\n",
    "    weights[0] -= derivative_0 * eta\n",
    "    \n",
    "def gd_step(coef, eta):\n",
    "    derivative_1 = 2/len(x) * sum((x * coef - y) * x)\n",
    "    # print(derivative_1, coef)\n",
    "    coef -= derivative_1 * eta\n",
    "    return coef"
   ]
  },
  {
   "cell_type": "code",
   "execution_count": 23,
   "metadata": {},
   "outputs": [],
   "source": [
    "def gradient_descent_int(x_int, eta=1e-5):\n",
    "    weights = np.array([1e-1]*2)\n",
    "    i = 0\n",
    "    \n",
    "    # x_int = np.hstack((np.ones(len(x)).reshape(-1,1), x.reshape(-1,1)))\n",
    "    \n",
    "    while True:\n",
    "        i += 1\n",
    "        gd_step_int(weights, eta)\n",
    "        \n",
    "        if i % 1e5 == 0:\n",
    "            print(f'iteration:{i} a={weights[0]}, b={weights[1]}')\n",
    "            print(calculate_rmse(y, (x * weights[1] + weights[0])))\n",
    "              \n",
    "        if i > 1e6:\n",
    "            print(f'iteration:{i} a={weights[0]}, b={weights[1]}')\n",
    "            print(calculate_rmse(y, (x * weights[1] + weights[0])))\n",
    "            break\n",
    "              \n",
    "    return weights\n",
    "\n",
    "def gradient_descent(eta=1e-5):\n",
    "    coef = 1e-1\n",
    "    i = 0\n",
    "    \n",
    "    while True:\n",
    "        i += 1\n",
    "        coef = gd_step(coef, eta)\n",
    "        \n",
    "        if i % 5 == 0:\n",
    "            print(f'iteration:{i} a={coef}')\n",
    "            print(calculate_rmse(y, (x * coef)))\n",
    "              \n",
    "        if i > 50:\n",
    "            print(f'iteration:{i} a={coef}')\n",
    "            print(calculate_rmse(y, (x * coef)))\n",
    "            break\n",
    "              \n",
    "    return coef"
   ]
  },
  {
   "cell_type": "code",
   "execution_count": null,
   "metadata": {},
   "outputs": [],
   "source": []
  },
  {
   "cell_type": "code",
   "execution_count": 18,
   "metadata": {},
   "outputs": [
    {
     "name": "stdout",
     "output_type": "stream",
     "text": [
      "iteration:5 a=4.734343885896736\n",
      "273.6975622086705\n",
      "iteration:10 a=5.659221554487849\n",
      "239.2685534070111\n",
      "iteration:15 a=5.84379972195222\n",
      "237.7941040923269\n",
      "iteration:20 a=5.880636052919541\n",
      "237.73518988101827\n",
      "iteration:25 a=5.887987492679586\n",
      "237.73284312417226\n",
      "iteration:30 a=5.889454622144611\n",
      "237.73274965629162\n",
      "iteration:35 a=5.889747417697237\n",
      "237.7327459336215\n",
      "iteration:40 a=5.889805851010507\n",
      "237.73274578535373\n",
      "iteration:45 a=5.889817512567759\n",
      "237.7327457794485\n",
      "iteration:50 a=5.889819839868915\n",
      "237.73274577921327\n",
      "iteration:51 a=5.889819999750153\n",
      "237.73274577920864\n"
     ]
    }
   ],
   "source": [
    "coef = gradient_descent()"
   ]
  },
  {
   "cell_type": "code",
   "execution_count": 24,
   "metadata": {},
   "outputs": [
    {
     "name": "stdout",
     "output_type": "stream",
     "text": [
      "iteration:100000 a=176.81651935942114, b=4.588432856841366\n",
      "156.85293453312656\n",
      "iteration:200000 a=283.1948715093171, b=3.8054411524469445\n",
      "114.21134733002455\n",
      "iteration:300000 a=347.24707786963995, b=3.3339885945277965\n",
      "94.09419513537172\n",
      "iteration:400000 a=385.8139954492996, b=3.050119029727752\n",
      "85.64151108894711\n",
      "iteration:500000 a=409.03578929710056, b=2.8791963600631103\n",
      "82.36305336137494\n",
      "iteration:600000 a=423.01802441858695, b=2.776280927667715\n",
      "81.14175489497502\n",
      "iteration:700000 a=431.43696484471747, b=2.7143138039040156\n",
      "80.69441418561426\n",
      "iteration:800000 a=436.50615137197536, b=2.677002349847291\n",
      "80.53161939147799\n",
      "iteration:900000 a=439.5583943796974, b=2.654536491836305\n",
      "80.47251764450289\n",
      "iteration:1000000 a=441.3962015560758, b=2.6410094184769326\n",
      "80.45107989006299\n",
      "iteration:1000001 a=441.396215664944, b=2.6410093146294247\n",
      "80.45107976634156\n"
     ]
    }
   ],
   "source": [
    "x_int = np.hstack((np.ones(len(x)).reshape(-1,1), x.reshape(-1,1)))\n",
    "weights = gradient_descent_int(x_int)"
   ]
  },
  {
   "cell_type": "code",
   "execution_count": 25,
   "metadata": {},
   "outputs": [
    {
     "name": "stdout",
     "output_type": "stream",
     "text": [
      "градиентный спуск со свободным членом: y = 2.6410093146294247 * x + 441.396215664944\n",
      "градиентный спуск со свободным членом: y = 5.889819999750153 * x\n"
     ]
    }
   ],
   "source": [
    "print(f'градиентный спуск со свободным членом: y = {weights[1]} * x + {weights[0]}')\n",
    "print(f'градиентный спуск со свободным членом: y = {coef} * x')"
   ]
  },
  {
   "cell_type": "markdown",
   "metadata": {},
   "source": [
    "не стала вводить условие выхода из цикла обучения, просто постаралась подобрать разумное кол-во итераций"
   ]
  },
  {
   "cell_type": "markdown",
   "metadata": {},
   "source": [
    "### 3"
   ]
  },
  {
   "cell_type": "markdown",
   "metadata": {},
   "source": [
    "таблица Z значений используется при известном среднем отклонении генеральной совокупности, \n",
    "\n",
    "таблица критических точек распределения Стьюдента t - если характеристики генеральной совокупности неизвестны"
   ]
  },
  {
   "cell_type": "code",
   "execution_count": null,
   "metadata": {},
   "outputs": [],
   "source": []
  }
 ],
 "metadata": {
  "kernelspec": {
   "display_name": "Python 3",
   "language": "python",
   "name": "python3"
  },
  "language_info": {
   "codemirror_mode": {
    "name": "ipython",
    "version": 3
   },
   "file_extension": ".py",
   "mimetype": "text/x-python",
   "name": "python",
   "nbconvert_exporter": "python",
   "pygments_lexer": "ipython3",
   "version": "3.6.6"
  }
 },
 "nbformat": 4,
 "nbformat_minor": 2
}
